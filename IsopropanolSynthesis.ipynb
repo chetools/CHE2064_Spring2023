{
  "nbformat": 4,
  "nbformat_minor": 0,
  "metadata": {
    "colab": {
      "provenance": [],
      "authorship_tag": "ABX9TyNaBpvaxixzV2pEpyxLfR+7",
      "include_colab_link": true
    },
    "kernelspec": {
      "name": "python3",
      "display_name": "Python 3"
    },
    "language_info": {
      "name": "python"
    }
  },
  "cells": [
    {
      "cell_type": "markdown",
      "metadata": {
        "id": "view-in-github",
        "colab_type": "text"
      },
      "source": [
        "<a href=\"https://colab.research.google.com/github/profteachkids/CHE2064_Spring2023/blob/main/IsopropanolSynthesis.ipynb\" target=\"_parent\"><img src=\"https://colab.research.google.com/assets/colab-badge.svg\" alt=\"Open In Colab\"/></a>"
      ]
    },
    {
      "cell_type": "code",
      "execution_count": 5,
      "metadata": {
        "id": "8eX9QvBYI_Cq",
        "outputId": "f83cc54d-463b-4309-ec96-6013840e42e8",
        "colab": {
          "base_uri": "https://localhost:8080/"
        }
      },
      "outputs": [
        {
          "output_type": "stream",
          "name": "stdout",
          "text": [
            "\u001b[?25l     \u001b[90m━━━━━━━━━━━━━━━━━━━━━━━━━━━━━━━━━━━━━━━━\u001b[0m \u001b[32m0.0/42.9 kB\u001b[0m \u001b[31m?\u001b[0m eta \u001b[36m-:--:--\u001b[0m\r\u001b[2K     \u001b[90m━━━━━━━━━━━━━━━━━━━━━━━━━━━━━━━━━━━━━━━━\u001b[0m \u001b[32m42.9/42.9 kB\u001b[0m \u001b[31m1.8 MB/s\u001b[0m eta \u001b[36m0:00:00\u001b[0m\n",
            "\u001b[?25h"
          ]
        }
      ],
      "source": [
        "!wget -N -q https://raw.githubusercontent.com/profteachkids/chetools/main/tools/che4.ipynb -O che4.ipynb\n",
        "!python -m pip install importnb --quiet\n",
        "from importnb import Notebook\n",
        "with Notebook():\n",
        "    from che4 import Range, Comp, CompArray, RangeArray, DotDict, d2nt, Props"
      ]
    },
    {
      "cell_type": "code",
      "source": [
        "import numpy as np\n",
        "from scipy.optimize import root\n",
        "import jax\n",
        "import jax.numpy as jnp"
      ],
      "metadata": {
        "id": "Y4diDq0NKm0m"
      },
      "execution_count": 6,
      "outputs": []
    },
    {
      "cell_type": "code",
      "source": [
        "#rx1 C3H6 + H2O -> C3H7OH\n",
        "#rx2 2C3H7OH -> (C3H7)O(C3H7) + H2O\n",
        "#1. C3H6, 2. (C3H7)O(C3H7), 3. C3H7OH, 4. H2O\n",
        "\n",
        "e=DotDict()\n",
        "e.stoic_rx1 = np.array([-1., 0., 1., -1.])\n",
        "e.stoic_rx2 = np.array([0., 1., -2, 1.])\n",
        "\n",
        "e.alkeneF = 100.\n",
        "e.alkeney = np.array([1., 0., 0., 0.])\n",
        "e.waterF = 95.\n",
        "e.waterx = np.array([0., 0., 0., 1.])\n",
        "\n",
        "e.etherx = np.array([0.001, 0.9, 0.09, 0.01])\n",
        "e.alcoholx = np.array([0.001, 0.01, 0.94, 0.049])\n",
        "\n",
        "e.etherP = Range(5., 0., e.alkeneF/2)\n",
        "e.alcoholP = Range(50., 0., e.alkeneF)\n",
        "\n",
        "e.ext_rx1 = Range(e.alkeneF/2, 0., e.alkeneF)\n",
        "e.ext_rx2 = Range(e.alkeneF/4, 0., e.alkeneF/2)"
      ],
      "metadata": {
        "id": "Hk7iJjCiJN08"
      },
      "execution_count": 7,
      "outputs": []
    },
    {
      "cell_type": "code",
      "source": [
        "x0, x2nt, wrap, x2unk, const=d2nt(e)"
      ],
      "metadata": {
        "id": "fR5S3Mp0UTbt"
      },
      "execution_count": 8,
      "outputs": []
    },
    {
      "cell_type": "code",
      "source": [
        "def eqs(d):\n",
        "    feed = d.alkeneF*d.alkeney + d.waterF*d.waterx\n",
        "    rxns = d.ext_rx1*d.stoic_rx1 + d.ext_rx2*d.stoic_rx2\n",
        "    prod =  d.etherP*d.etherx + d.alcoholP*d.alcoholx\n",
        "    return feed + rxns - prod"
      ],
      "metadata": {
        "id": "RJVeMmJlOKdt"
      },
      "execution_count": 9,
      "outputs": []
    },
    {
      "cell_type": "code",
      "source": [
        "wrapped_eqs=wrap(eqs)"
      ],
      "metadata": {
        "id": "ribfEvdcfUeV"
      },
      "execution_count": 10,
      "outputs": []
    },
    {
      "cell_type": "code",
      "source": [
        "x=root(wrapped_eqs, x0).x "
      ],
      "metadata": {
        "id": "DsRN2ZSHT7wy"
      },
      "execution_count": 11,
      "outputs": []
    },
    {
      "cell_type": "code",
      "source": [
        "x2unk(x)._asdict()"
      ],
      "metadata": {
        "colab": {
          "base_uri": "https://localhost:8080/"
        },
        "id": "gpy83uu7hBqA",
        "outputId": "f8c311f9-2d71-4716-86d1-7010686bf7c1"
      },
      "execution_count": 12,
      "outputs": [
        {
          "output_type": "execute_result",
          "data": {
            "text/plain": [
              "{'etherP': Array(9.2715403, dtype=float64),\n",
              " 'alcoholP': Array(85.81427397, dtype=float64),\n",
              " 'ext_rx1': Array(99.90491419, dtype=float64),\n",
              " 'ext_rx2': Array(9.20252901, dtype=float64)}"
            ]
          },
          "metadata": {},
          "execution_count": 12
        }
      ]
    },
    {
      "cell_type": "code",
      "source": [
        "const._asdict()"
      ],
      "metadata": {
        "colab": {
          "base_uri": "https://localhost:8080/"
        },
        "id": "D0md0j1uhJIZ",
        "outputId": "a30b31c9-62dd-434c-e5ec-39e63ac7adca"
      },
      "execution_count": 13,
      "outputs": [
        {
          "output_type": "execute_result",
          "data": {
            "text/plain": [
              "{'stoic_rx1': Array([-1.,  0.,  1., -1.], dtype=float64),\n",
              " 'stoic_rx2': Array([ 0.,  1., -2.,  1.], dtype=float64),\n",
              " 'alkeneF': Array(100., dtype=float64),\n",
              " 'alkeney': Array([1., 0., 0., 0.], dtype=float64),\n",
              " 'waterF': Array(95., dtype=float64),\n",
              " 'waterx': Array([0., 0., 0., 1.], dtype=float64),\n",
              " 'etherx': Array([0.001, 0.9  , 0.09 , 0.01 ], dtype=float64),\n",
              " 'alcoholx': Array([0.001, 0.01 , 0.94 , 0.049], dtype=float64)}"
            ]
          },
          "metadata": {},
          "execution_count": 13
        }
      ]
    },
    {
      "cell_type": "code",
      "source": [
        "def eqs2(d):\n",
        "    reactor_feed=d.alkeneF*d.alkeney + d.waterF*d.waterx + d.D1B*d.D1Bx + d.decanterW*d.decanterWx\n",
        "    rxns = d.ext_rx1*d.stoic_rx1 + d.ext_rx2*d.stoic_rx2\n",
        "    reactor_prod = d.D1F*d.D1Fx\n",
        "\n",
        "    WARFR_CONSTRAINT = (d.waterF + d.D1B + d.decanterW)/d.alkeneF - d.WARFR\n",
        "\n",
        "    REACTOR_BALANCE = reactor_feed + rxns - reactor_prod\n",
        "\n",
        "    D1_BALANCE = d.D1F*d.D1Fx - d.D1B*d.D1Bx - d.D1D*d.D1Dy\n",
        "    D1_VLE = d.D1Dy/d.D1Bx - d.D1K\n",
        "\n",
        "    AZ_BALANCE = d.D1D*d.D1Dy -  d.decanterW*d.decanterWx -  d.etherP*d.etherx - d.alcoholP*d.alcoholx\n",
        "\n",
        "    return jnp.concatenate([REACTOR_BALANCE, D1_BALANCE, D1_VLE, AZ_BALANCE, jnp.atleast_1d(WARFR_CONSTRAINT)])"
      ],
      "metadata": {
        "id": "y7q4FHF1079r"
      },
      "execution_count": 19,
      "outputs": []
    },
    {
      "cell_type": "code",
      "source": [
        "e=DotDict()\n",
        "e.stoic_rx1 = np.array([-1., 0., 1., -1.])\n",
        "e.stoic_rx2 = np.array([0., 1., -2, 1.])\n",
        "\n",
        "e.alkeneF = 100.\n",
        "e.alkeney = np.array([1., 0., 0., 0.])\n",
        "e.waterF = 95.\n",
        "e.waterx = np.array([0., 0., 0., 1.])\n",
        "\n",
        "e.etherx = np.array([0.001, 0.9, 0.09, 0.01])\n",
        "e.alcoholx = np.array([0.001, 0.01, 0.94, 0.049])\n",
        "\n",
        "e.WARFR = 12.        #Water-Alkene Reactor Feed Ratio\n",
        "\n",
        "e.D1F = Range(e.WARFR*e.alkeneF, 0., 2.* e.WARFR*e.alkeneF)\n",
        "e.D1Fx = Comp([ 0.01 ,0.03, 0.06,0.9])\n",
        "\n",
        "e.D1D = Range(e.WARFR*e.alkeneF/2, 0., 2.* e.WARFR*e.alkeneF)\n",
        "e.D1Dy = Comp([0.01,0.33, 0.33, 0.33])\n",
        "\n",
        "e.D1B = Range(e.WARFR*e.alkeneF/2, 0., 2.* e.WARFR*e.alkeneF)\n",
        "e.D1Bx = Comp([0.0001,0.1,0.1,0.8])\n",
        "\n",
        "e.decanterW = Range(e.WARFR*e.alkeneF, 0., 2.* e.WARFR*e.alkeneF)\n",
        "e.decanterWx = np.array([ 0.00001 , 0.002, 0.018, 0.98])\n",
        "\n",
        "e.etherP = Range(5., 0., e.alkeneF/2)\n",
        "e.alcoholP = Range(50., 0., e.alkeneF)\n",
        "\n",
        "e.D1K=np.array([100, 10., 5., 0.2])\n",
        "\n",
        "e.ext_rx1 = Range(e.alkeneF/2, 0., e.alkeneF)\n",
        "e.ext_rx2 = Range(e.alkeneF/4, 0., e.alkeneF/2)"
      ],
      "metadata": {
        "id": "41oGnYGr3w5P"
      },
      "execution_count": 23,
      "outputs": []
    },
    {
      "cell_type": "code",
      "source": [
        "x0, x2nt, wrap, x2unk, const= d2nt(e)"
      ],
      "metadata": {
        "id": "TM8i3OAL9FEQ"
      },
      "execution_count": 24,
      "outputs": []
    },
    {
      "cell_type": "code",
      "source": [
        "wrapped_eqs2=wrap(eqs2)"
      ],
      "metadata": {
        "id": "aSTtKJJ3Ra3i"
      },
      "execution_count": 25,
      "outputs": []
    },
    {
      "cell_type": "code",
      "source": [
        "sol=root(wrapped_eqs2, x0, jac=jax.jacobian(wrapped_eqs2))\n",
        "print(sol)"
      ],
      "metadata": {
        "id": "cgwQCYXQRcJC",
        "outputId": "dd618ee0-da92-4fa5-99b3-f510471475d1",
        "colab": {
          "base_uri": "https://localhost:8080/"
        }
      },
      "execution_count": 27,
      "outputs": [
        {
          "output_type": "stream",
          "name": "stdout",
          "text": [
            " message: The solution converged.\n",
            " success: True\n",
            "  status: 1\n",
            "     fun: [-1.334e-09  2.262e-11 ...  6.573e-12 -1.776e-15]\n",
            "       x: [ 1.587e-04 -9.099e+00 ...  6.957e+00 -1.489e+00]\n",
            "    nfev: 39\n",
            "    njev: 3\n",
            "    fjac: [[-7.027e-05 -1.345e-02 ...  3.083e-11 -4.086e-14]\n",
            "           [ 7.057e-01  1.877e-05 ...  2.778e-05 -1.793e-08]\n",
            "           ...\n",
            "           [-4.608e-01  3.269e-03 ... -4.069e-01 -1.397e-05]\n",
            "           [-4.180e-01 -1.928e-03 ...  3.977e-01 -1.890e-10]]\n",
            "       r: [ 6.848e+02 -1.163e-01 ... -3.362e+00  3.276e+00]\n",
            "     qtf: [ 1.377e-07  2.053e-07 ... -2.366e-08 -4.928e-13]\n"
          ]
        }
      ]
    },
    {
      "cell_type": "code",
      "source": [
        "x2unk(sol.x)._asdict()"
      ],
      "metadata": {
        "id": "S1iIR2AOaeRo",
        "outputId": "f6c8095f-6e45-46a6-82fe-2d249b83cf11",
        "colab": {
          "base_uri": "https://localhost:8080/"
        }
      },
      "execution_count": 30,
      "outputs": [
        {
          "output_type": "execute_result",
          "data": {
            "text/plain": [
              "{'D1F': Array(1200.09523025, dtype=float64),\n",
              " 'D1Fx': Array([8.72524480e-05, 1.53505215e-02, 2.03781986e-01, 7.80780241e-01],      dtype=float64),\n",
              " 'D1D': Array(109.53910025, dtype=float64),\n",
              " 'D1Dy': Array([0.00086937, 0.08427508, 0.74639873, 0.16845681], dtype=float64),\n",
              " 'D1B': Array(1090.55613001, dtype=float64),\n",
              " 'D1Bx': Array([8.69372240e-06, 8.42750829e-03, 1.49279747e-01, 8.42284051e-01],      dtype=float64),\n",
              " 'decanterW': Array(14.44386999, dtype=float64),\n",
              " 'etherP': Array(9.2715403, dtype=float64),\n",
              " 'alcoholP': Array(85.81427397, dtype=float64),\n",
              " 'ext_rx1': Array(99.90491419, dtype=float64),\n",
              " 'ext_rx2': Array(9.20252901, dtype=float64)}"
            ]
          },
          "metadata": {},
          "execution_count": 30
        }
      ]
    },
    {
      "cell_type": "code",
      "source": [
        "def f(x):\n",
        "    return np.sin(x)"
      ],
      "metadata": {
        "id": "dx7WR-SlSO79"
      },
      "execution_count": 30,
      "outputs": []
    },
    {
      "cell_type": "code",
      "source": [
        "def derivative(func, h=1e-6):\n",
        "    def func_prime(x):\n",
        "        return (func(x+h)-func(x))/h\n",
        "\n",
        "    return func_prime\n"
      ],
      "metadata": {
        "id": "tY67wo0uVDE6"
      },
      "execution_count": 35,
      "outputs": []
    },
    {
      "cell_type": "code",
      "source": [
        "fprime = derivative(f, h=1e-8)\n",
        "fprime(0.5)"
      ],
      "metadata": {
        "id": "zYf-PxcqVOFY",
        "outputId": "ad478aa4-efe1-4c6c-af67-c9bd254f1c58",
        "colab": {
          "base_uri": "https://localhost:8080/"
        }
      },
      "execution_count": 40,
      "outputs": [
        {
          "output_type": "execute_result",
          "data": {
            "text/plain": [
              "0.8775825621754052"
            ]
          },
          "metadata": {},
          "execution_count": 40
        }
      ]
    },
    {
      "cell_type": "code",
      "source": [
        "np.cos(0.5)"
      ],
      "metadata": {
        "id": "d4F6oR1WVTYo",
        "outputId": "49369199-e716-4ed8-b215-f2d9219d691c",
        "colab": {
          "base_uri": "https://localhost:8080/"
        }
      },
      "execution_count": 34,
      "outputs": [
        {
          "output_type": "execute_result",
          "data": {
            "text/plain": [
              "0.8775825618903728"
            ]
          },
          "metadata": {},
          "execution_count": 34
        }
      ]
    },
    {
      "cell_type": "code",
      "source": [
        "import jax.numpy as jnp\n",
        "import jax\n",
        "from jax.config import config\n",
        "config.update(\"jax_enable_x64\", True)"
      ],
      "metadata": {
        "id": "OTt6A1CoWTws"
      },
      "execution_count": 1,
      "outputs": []
    },
    {
      "cell_type": "code",
      "source": [
        "def f_jax(x):\n",
        "    return jnp.sin(x)"
      ],
      "metadata": {
        "id": "uQpP0bCGYUPp"
      },
      "execution_count": 2,
      "outputs": []
    },
    {
      "cell_type": "code",
      "source": [
        "f_jax_prime=jax.grad(f_jax)"
      ],
      "metadata": {
        "id": "8ZeCWMypYaTY"
      },
      "execution_count": 3,
      "outputs": []
    },
    {
      "cell_type": "code",
      "source": [
        "f_jax_prime(0.5)"
      ],
      "metadata": {
        "id": "oX0VX-GdYgEQ",
        "outputId": "fbf66d64-ddc2-40ff-b961-7a946082e3b2",
        "colab": {
          "base_uri": "https://localhost:8080/"
        }
      },
      "execution_count": 4,
      "outputs": [
        {
          "output_type": "stream",
          "name": "stderr",
          "text": [
            "WARNING:jax._src.xla_bridge:No GPU/TPU found, falling back to CPU. (Set TF_CPP_MIN_LOG_LEVEL=0 and rerun for more info.)\n"
          ]
        },
        {
          "output_type": "execute_result",
          "data": {
            "text/plain": [
              "Array(0.87758256, dtype=float64, weak_type=True)"
            ]
          },
          "metadata": {},
          "execution_count": 4
        }
      ]
    },
    {
      "cell_type": "code",
      "source": [],
      "metadata": {
        "id": "rPmpcwE5YnOn"
      },
      "execution_count": null,
      "outputs": []
    }
  ]
}