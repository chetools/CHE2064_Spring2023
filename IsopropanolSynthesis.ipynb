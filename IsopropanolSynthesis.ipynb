{
  "nbformat": 4,
  "nbformat_minor": 0,
  "metadata": {
    "colab": {
      "provenance": [],
      "authorship_tag": "ABX9TyO7YDGOFEXJfFqaBvsFxfGp",
      "include_colab_link": true
    },
    "kernelspec": {
      "name": "python3",
      "display_name": "Python 3"
    },
    "language_info": {
      "name": "python"
    }
  },
  "cells": [
    {
      "cell_type": "markdown",
      "metadata": {
        "id": "view-in-github",
        "colab_type": "text"
      },
      "source": [
        "<a href=\"https://colab.research.google.com/github/profteachkids/CHE2064_Spring2023/blob/main/IsopropanolSynthesis.ipynb\" target=\"_parent\"><img src=\"https://colab.research.google.com/assets/colab-badge.svg\" alt=\"Open In Colab\"/></a>"
      ]
    },
    {
      "cell_type": "code",
      "execution_count": 1,
      "metadata": {
        "id": "8eX9QvBYI_Cq",
        "outputId": "62be0a35-55ee-442a-e06c-efffcf92d1b4",
        "colab": {
          "base_uri": "https://localhost:8080/"
        }
      },
      "outputs": [
        {
          "output_type": "stream",
          "name": "stdout",
          "text": [
            "\u001b[?25l     \u001b[90m━━━━━━━━━━━━━━━━━━━━━━━━━━━━━━━━━━━━━━━━\u001b[0m \u001b[32m0.0/42.9 kB\u001b[0m \u001b[31m?\u001b[0m eta \u001b[36m-:--:--\u001b[0m\r\u001b[2K     \u001b[90m━━━━━━━━━━━━━━━━━━━━━━━━━━━━━━━━━━━━━━━\u001b[0m \u001b[32m42.9/42.9 kB\u001b[0m \u001b[31m993.2 kB/s\u001b[0m eta \u001b[36m0:00:00\u001b[0m\n",
            "\u001b[?25h"
          ]
        },
        {
          "output_type": "stream",
          "name": "stderr",
          "text": [
            "WARNING:jax._src.xla_bridge:No GPU/TPU found, falling back to CPU. (Set TF_CPP_MIN_LOG_LEVEL=0 and rerun for more info.)\n"
          ]
        }
      ],
      "source": [
        "!wget -N -q https://raw.githubusercontent.com/profteachkids/chetools/main/tools/che4.ipynb -O che4.ipynb\n",
        "!python -m pip install importnb --quiet\n",
        "from importnb import Notebook\n",
        "with Notebook():\n",
        "    from che4 import Range, Comp, CompArray, RangeArray, DotDict, d2nt, Props"
      ]
    },
    {
      "cell_type": "code",
      "source": [
        "import numpy as np\n",
        "from scipy.optimize import root"
      ],
      "metadata": {
        "id": "Y4diDq0NKm0m"
      },
      "execution_count": 2,
      "outputs": []
    },
    {
      "cell_type": "code",
      "source": [
        "#rx1 C3H6 + H2O -> C3H7OH\n",
        "#rx2 2C3H7OH -> (C3H7)O(C3H7) + H2O\n",
        "#1. C3H6, 2. (C3H7)O(C3H7), 3. C3H7OH, 4. H2O\n",
        "\n",
        "e=DotDict()\n",
        "e.stoic_rx1 = np.array([-1., 0., 1., -1.])\n",
        "e.stoic_rx2 = np.array([0., 1., -2, 1.])\n",
        "\n",
        "e.alkeneF = 100.\n",
        "e.alkeney = np.array([1., 0., 0., 0.])\n",
        "e.waterF = 95.\n",
        "e.waterx = np.array([0., 0., 0., 1.])\n",
        "\n",
        "e.etherx = np.array([0.001, 0.9, 0.09, 0.01])\n",
        "e.alcoholx = np.array([0.001, 0.01, 0.94, 0.049])\n",
        "\n",
        "e.etherP = Range(5., 0., e.alkeneF/2)\n",
        "e.alcoholP = Range(50., 0., e.alkeneF)\n",
        "\n",
        "e.ext_rx1 = Range(e.alkeneF/2, 0., e.alkeneF)\n",
        "e.ext_rx2 = Range(e.alkeneF/4, 0., e.alkeneF/2)"
      ],
      "metadata": {
        "id": "Hk7iJjCiJN08"
      },
      "execution_count": 3,
      "outputs": []
    },
    {
      "cell_type": "code",
      "source": [
        "x0, x2nt, wrap, x2unk, const=d2nt(e)"
      ],
      "metadata": {
        "id": "fR5S3Mp0UTbt"
      },
      "execution_count": 4,
      "outputs": []
    },
    {
      "cell_type": "code",
      "source": [],
      "metadata": {
        "id": "lSLA_kKtepNt"
      },
      "execution_count": 4,
      "outputs": []
    },
    {
      "cell_type": "code",
      "source": [
        "def eqs(d):\n",
        "    feed = d.alkeneF*d.alkeney + d.waterF*d.waterx\n",
        "    rxns = d.ext_rx1*d.stoic_rx1 + d.ext_rx2*d.stoic_rx2\n",
        "    prod =  d.etherP*d.etherx + d.alcoholP*d.alcoholx\n",
        "    return feed + rxns - prod"
      ],
      "metadata": {
        "id": "RJVeMmJlOKdt"
      },
      "execution_count": 5,
      "outputs": []
    },
    {
      "cell_type": "code",
      "source": [
        "wrapped_eqs=wrap(eqs)"
      ],
      "metadata": {
        "id": "ribfEvdcfUeV"
      },
      "execution_count": 6,
      "outputs": []
    },
    {
      "cell_type": "code",
      "source": [
        "x=root(wrapped_eqs, x0).x "
      ],
      "metadata": {
        "id": "DsRN2ZSHT7wy"
      },
      "execution_count": 7,
      "outputs": []
    },
    {
      "cell_type": "code",
      "source": [
        "x2unk(x)._asdict()"
      ],
      "metadata": {
        "colab": {
          "base_uri": "https://localhost:8080/"
        },
        "id": "gpy83uu7hBqA",
        "outputId": "9808966d-dbd6-48f1-de9c-52e538211de4"
      },
      "execution_count": 8,
      "outputs": [
        {
          "output_type": "execute_result",
          "data": {
            "text/plain": [
              "{'etherP': Array(9.2715403, dtype=float64),\n",
              " 'alcoholP': Array(85.81427397, dtype=float64),\n",
              " 'ext_rx1': Array(99.90491419, dtype=float64),\n",
              " 'ext_rx2': Array(9.20252901, dtype=float64)}"
            ]
          },
          "metadata": {},
          "execution_count": 8
        }
      ]
    },
    {
      "cell_type": "code",
      "source": [
        "const._asdict()"
      ],
      "metadata": {
        "colab": {
          "base_uri": "https://localhost:8080/"
        },
        "id": "D0md0j1uhJIZ",
        "outputId": "0000240e-b430-4d79-8f23-dda6a6abb929"
      },
      "execution_count": 9,
      "outputs": [
        {
          "output_type": "execute_result",
          "data": {
            "text/plain": [
              "{'stoic_rx1': Array([-1.,  0.,  1., -1.], dtype=float64),\n",
              " 'stoic_rx2': Array([ 0.,  1., -2.,  1.], dtype=float64),\n",
              " 'alkeneF': Array(100., dtype=float64),\n",
              " 'alkeney': Array([1., 0., 0., 0.], dtype=float64),\n",
              " 'waterF': Array(95., dtype=float64),\n",
              " 'waterx': Array([0., 0., 0., 1.], dtype=float64),\n",
              " 'etherx': Array([0.001, 0.9  , 0.09 , 0.01 ], dtype=float64),\n",
              " 'alcoholx': Array([0.001, 0.01 , 0.94 , 0.049], dtype=float64)}"
            ]
          },
          "metadata": {},
          "execution_count": 9
        }
      ]
    },
    {
      "cell_type": "code",
      "source": [],
      "metadata": {
        "id": "MHYGJGbzhosT"
      },
      "execution_count": 9,
      "outputs": []
    },
    {
      "cell_type": "code",
      "source": [
        "def eqs2(d):\n",
        "    reactor_feed=d.alkeneF*d.alkeney + d.waterF*d.waterx + d.D1B*d.D1Bx + d.decanterW*d.decanterWx\n",
        "    rxns = d.ext_rx1*d.stoic_rx1 + d.ext_rx2*d.stoic_rx2\n",
        "    reactor_prod = d.D1F*d.D1Fx\n",
        "\n",
        "    WARFR_CONSTRAINT = (d.waterF + d.D1B + d.decanterW)/d.alkeneF - d.WARFR\n",
        "\n",
        "    REACTOR_BALANCE = reactor_feed + rxns - reactor_prod\n",
        "\n",
        "    D1_BALANCE = d.D1F*d.D1Fx - d.D1B*d.D1Bx - d.D1D*d.D1Dy\n",
        "    D1_VLE = d.D1Dy/d.D1Bx - d.D1K\n",
        "\n",
        "    AZ_BALANCE = d.D1D*d.D1Dy -  d.decanterW*d.decanterWx -  d.etherP*d.etherx - d.alcoholP*d.alcoholx\n",
        "\n",
        "    return np.concatenate([REACTOR_BALANCE, D1_BALANCE, D1_VLE, AZ_BALANCE, np.atleast_1d(WARFR_CONSTRAINT)])"
      ],
      "metadata": {
        "id": "y7q4FHF1079r"
      },
      "execution_count": 17,
      "outputs": []
    },
    {
      "cell_type": "code",
      "source": [
        "e=DotDict()\n",
        "e.stoic_rx1 = np.array([-1., 0., 1., -1.])\n",
        "e.stoic_rx2 = np.array([0., 1., -2, 1.])\n",
        "\n",
        "e.alkeneF = 100.\n",
        "e.alkeney = np.array([1., 0., 0., 0.])\n",
        "e.waterF = 95.\n",
        "e.waterx = np.array([0., 0., 0., 1.])\n",
        "\n",
        "e.etherx = np.array([0.001, 0.9, 0.09, 0.01])\n",
        "e.alcoholx = np.array([0.001, 0.01, 0.94, 0.049])\n",
        "\n",
        "e.WARFR = 12.        #Water-Alkene Reactor Feed Ratio\n",
        "\n",
        "e.D1F = Range(e.WARFR*e.alkeneF, 0., 2.* e.WARFR*e.alkeneF)\n",
        "e.D1Fx = Comp([ 0.01 ,0.03, 0.06,0.9])\n",
        "\n",
        "e.D1D = Range(e.WARFR*e.alkeneF/2, 0., 2.* e.WARFR*e.alkeneF)\n",
        "e.D1Dy = Comp([0.01,0.33, 0.33, 0.33])\n",
        "\n",
        "e.D1B = Range(e.WARFR*e.alkeneF/2, 0., 2.* e.WARFR*e.alkeneF)\n",
        "e.D1Bx = Comp([0.001,0.1,0.1,0.8])\n",
        "\n",
        "e.etherP = Range(5., 0., e.alkeneF/2)\n",
        "e.alcoholP = Range(50., 0., e.alkeneF)\n",
        "\n",
        "e.ext_rx1 = Range(e.alkeneF/2, 0., e.alkeneF)\n",
        "e.ext_rx2 = Range(e.alkeneF/4, 0., e.alkeneF/2)"
      ],
      "metadata": {
        "id": "41oGnYGr3w5P"
      },
      "execution_count": null,
      "outputs": []
    },
    {
      "cell_type": "code",
      "source": [
        "np.atleast_1d(np.array(5))"
      ],
      "metadata": {
        "id": "QQ9SPSVm9DtX",
        "outputId": "73db00b9-c214-4ec5-c8d2-99d4721a08da",
        "colab": {
          "base_uri": "https://localhost:8080/"
        }
      },
      "execution_count": 16,
      "outputs": [
        {
          "output_type": "execute_result",
          "data": {
            "text/plain": [
              "array([5])"
            ]
          },
          "metadata": {},
          "execution_count": 16
        }
      ]
    },
    {
      "cell_type": "code",
      "source": [],
      "metadata": {
        "id": "TM8i3OAL9FEQ"
      },
      "execution_count": null,
      "outputs": []
    }
  ]
}