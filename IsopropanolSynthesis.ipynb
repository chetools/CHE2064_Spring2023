{
  "nbformat": 4,
  "nbformat_minor": 0,
  "metadata": {
    "colab": {
      "provenance": [],
      "authorship_tag": "ABX9TyMQs61gYab0CCPuv4wAzdrj",
      "include_colab_link": true
    },
    "kernelspec": {
      "name": "python3",
      "display_name": "Python 3"
    },
    "language_info": {
      "name": "python"
    }
  },
  "cells": [
    {
      "cell_type": "markdown",
      "metadata": {
        "id": "view-in-github",
        "colab_type": "text"
      },
      "source": [
        "<a href=\"https://colab.research.google.com/github/profteachkids/CHE2064_Spring2023/blob/main/IsopropanolSynthesis.ipynb\" target=\"_parent\"><img src=\"https://colab.research.google.com/assets/colab-badge.svg\" alt=\"Open In Colab\"/></a>"
      ]
    },
    {
      "cell_type": "code",
      "execution_count": null,
      "metadata": {
        "id": "8eX9QvBYI_Cq",
        "outputId": "c08c1d93-12dc-455d-ad7a-5f27cf7752c7",
        "colab": {
          "base_uri": "https://localhost:8080/"
        }
      },
      "outputs": [
        {
          "output_type": "stream",
          "name": "stdout",
          "text": [
            "\u001b[?25l     \u001b[90m━━━━━━━━━━━━━━━━━━━━━━━━━━━━━━━━━━━━━━━━\u001b[0m \u001b[32m0.0/42.9 KB\u001b[0m \u001b[31m?\u001b[0m eta \u001b[36m-:--:--\u001b[0m\r\u001b[2K     \u001b[91m━━━━━━━━━━━━━━━━━━━━━━━━━━━━━━━━━━━━━━\u001b[0m\u001b[90m╺\u001b[0m\u001b[90m━\u001b[0m \u001b[32m41.0/42.9 KB\u001b[0m \u001b[31m67.1 MB/s\u001b[0m eta \u001b[36m0:00:01\u001b[0m\r\u001b[2K     \u001b[90m━━━━━━━━━━━━━━━━━━━━━━━━━━━━━━━━━━━━━━━\u001b[0m \u001b[32m42.9/42.9 KB\u001b[0m \u001b[31m741.6 kB/s\u001b[0m eta \u001b[36m0:00:00\u001b[0m\n",
            "\u001b[?25h"
          ]
        },
        {
          "output_type": "stream",
          "name": "stderr",
          "text": [
            "WARNING:jax._src.xla_bridge:No GPU/TPU found, falling back to CPU. (Set TF_CPP_MIN_LOG_LEVEL=0 and rerun for more info.)\n"
          ]
        }
      ],
      "source": [
        "!wget -N -q https://raw.githubusercontent.com/profteachkids/chetools/main/tools/che4.ipynb -O che4.ipynb\n",
        "!python -m pip install importnb --quiet\n",
        "from importnb import Notebook\n",
        "with Notebook():\n",
        "    from che4 import Range, Comp, CompArray, RangeArray, DotDict, d2nt, Props"
      ]
    },
    {
      "cell_type": "code",
      "source": [
        "import numpy as np\n",
        "from scipy.optimize import root"
      ],
      "metadata": {
        "id": "Y4diDq0NKm0m"
      },
      "execution_count": null,
      "outputs": []
    },
    {
      "cell_type": "code",
      "source": [
        "#rx1 C3H6 + H2O -> C3H7OH\n",
        "#rx2 2C3H7OH -> (C3H7)O(C3H7) + H2O\n",
        "#1. C3H6, 2. (C3H7)O(C3H7), 3. C3H7OH, 4. H2O\n",
        "\n",
        "e=DotDict()\n",
        "e.stoic_rx1 = np.array([-1., 0., 1., -1.])\n",
        "e.stoic_rx2 = np.array([0., 1., -2, 1.])\n",
        "\n",
        "e.alkeneF = 100.\n",
        "e.alkeney = np.array([1., 0., 0., 0.])\n",
        "e.waterF = 95.\n",
        "e.waterx = np.array([0., 0., 0., 1.])\n",
        "\n",
        "e.etherx = np.array([0.001, 0.9, 0.09, 0.01])\n",
        "e.alcoholx = np.array([0.001, 0.01, 0.94, 0.049])\n",
        "\n",
        "e.etherP = Range(5., 0., e.alkeneF/2)\n",
        "e.alcoholP = Range(50., 0., e.alkeneF)\n",
        "\n",
        "e.ext_rx1 = Range(e.alkeneF/2, 0., e.alkeneF)\n",
        "e.ext_rx2 = Range(e.alkeneF/4, 0., e.alkeneF/2)"
      ],
      "metadata": {
        "id": "Hk7iJjCiJN08"
      },
      "execution_count": null,
      "outputs": []
    },
    {
      "cell_type": "code",
      "source": [
        "x0, x2nt, wrap, x2unk, const=d2nt(e)"
      ],
      "metadata": {
        "id": "fR5S3Mp0UTbt"
      },
      "execution_count": null,
      "outputs": []
    },
    {
      "cell_type": "code",
      "source": [
        "x0"
      ],
      "metadata": {
        "id": "rubZPX0-Xybz",
        "outputId": "be33fefd-484a-49c2-cf7e-6723544df5ed",
        "colab": {
          "base_uri": "https://localhost:8080/"
        }
      },
      "execution_count": null,
      "outputs": [
        {
          "output_type": "execute_result",
          "data": {
            "text/plain": [
              "Array([-2.19722458,  0.        ,  0.        ,  0.        ], dtype=float64)"
            ]
          },
          "metadata": {},
          "execution_count": 38
        }
      ]
    },
    {
      "cell_type": "code",
      "source": [
        "x2unk(x0)"
      ],
      "metadata": {
        "id": "Gqj1ALqoX4id",
        "outputId": "b639f9e8-a58b-451b-dd13-d038e0f43e01",
        "colab": {
          "base_uri": "https://localhost:8080/"
        }
      },
      "execution_count": null,
      "outputs": [
        {
          "output_type": "execute_result",
          "data": {
            "text/plain": [
              "_(etherP=Array(5., dtype=float64), alcoholP=Array(50., dtype=float64), ext_rx1=Array(50., dtype=float64), ext_rx2=Array(25., dtype=float64))"
            ]
          },
          "metadata": {},
          "execution_count": 45
        }
      ]
    },
    {
      "cell_type": "code",
      "source": [
        "def eqs(d):\n",
        "    feed = d.alkeneF*d.alkeney + d.waterF*d.waterx\n",
        "    rxns = d.ext_rx1*d.stoic_rx1 + d.ext_rx2*d.stoic_rx2\n",
        "    prod =  d.etherP*d.etherx + d.alcoholP*d.alcoholx\n",
        "    return feed + rxns - prod"
      ],
      "metadata": {
        "id": "RJVeMmJlOKdt"
      },
      "execution_count": null,
      "outputs": []
    },
    {
      "cell_type": "code",
      "source": [
        "root(eqs, [ext_rx1, ext_rx2, etherP, alcoholP]).x"
      ],
      "metadata": {
        "id": "oSnVvzBnPzqF",
        "outputId": "b20f7067-818c-4b9e-d2bb-3f54942da0b8",
        "colab": {
          "base_uri": "https://localhost:8080/"
        }
      },
      "execution_count": null,
      "outputs": [
        {
          "output_type": "execute_result",
          "data": {
            "text/plain": [
              "array([99.90491419,  9.20252901,  9.2715403 , 85.81427397])"
            ]
          },
          "metadata": {},
          "execution_count": 16
        }
      ]
    },
    {
      "cell_type": "code",
      "source": [
        "e=DotDict()\n"
      ],
      "metadata": {
        "id": "wCgUP7BpQAWH"
      },
      "execution_count": null,
      "outputs": []
    },
    {
      "cell_type": "code",
      "source": [],
      "metadata": {
        "id": "kRcEvpo5ShZk"
      },
      "execution_count": null,
      "outputs": []
    },
    {
      "cell_type": "code",
      "source": [
        "e.inside_dict.a"
      ],
      "metadata": {
        "id": "V2jL3S-rSi1J",
        "outputId": "f24fb5a8-63e1-4eed-bed7-7d62f057ab89",
        "colab": {
          "base_uri": "https://localhost:8080/"
        }
      },
      "execution_count": null,
      "outputs": [
        {
          "output_type": "execute_result",
          "data": {
            "text/plain": [
              "45"
            ]
          },
          "metadata": {},
          "execution_count": 32
        }
      ]
    },
    {
      "cell_type": "code",
      "source": [],
      "metadata": {
        "id": "DsRN2ZSHT7wy"
      },
      "execution_count": null,
      "outputs": []
    }
  ]
}