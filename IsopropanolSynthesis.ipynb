{
  "nbformat": 4,
  "nbformat_minor": 0,
  "metadata": {
    "colab": {
      "provenance": [],
      "authorship_tag": "ABX9TyPeCwe6M2WoTkSvlG5kwJQ4",
      "include_colab_link": true
    },
    "kernelspec": {
      "name": "python3",
      "display_name": "Python 3"
    },
    "language_info": {
      "name": "python"
    }
  },
  "cells": [
    {
      "cell_type": "markdown",
      "metadata": {
        "id": "view-in-github",
        "colab_type": "text"
      },
      "source": [
        "<a href=\"https://colab.research.google.com/github/profteachkids/CHE2064_Spring2023/blob/main/IsopropanolSynthesis.ipynb\" target=\"_parent\"><img src=\"https://colab.research.google.com/assets/colab-badge.svg\" alt=\"Open In Colab\"/></a>"
      ]
    },
    {
      "cell_type": "code",
      "execution_count": 1,
      "metadata": {
        "id": "8eX9QvBYI_Cq",
        "outputId": "2dd0afdb-13b9-48f3-d047-323978c787f3",
        "colab": {
          "base_uri": "https://localhost:8080/"
        }
      },
      "outputs": [
        {
          "output_type": "stream",
          "name": "stdout",
          "text": [
            "\u001b[?25l     \u001b[90m━━━━━━━━━━━━━━━━━━━━━━━━━━━━━━━━━━━━━━━━\u001b[0m \u001b[32m0.0/42.9 KB\u001b[0m \u001b[31m?\u001b[0m eta \u001b[36m-:--:--\u001b[0m\r\u001b[2K     \u001b[90m━━━━━━━━━━━━━━━━━━━━━━━━━━━━━━━━━━━━━━━━\u001b[0m \u001b[32m42.9/42.9 KB\u001b[0m \u001b[31m2.6 MB/s\u001b[0m eta \u001b[36m0:00:00\u001b[0m\n",
            "\u001b[?25h"
          ]
        },
        {
          "output_type": "stream",
          "name": "stderr",
          "text": [
            "WARNING:jax._src.xla_bridge:No GPU/TPU found, falling back to CPU. (Set TF_CPP_MIN_LOG_LEVEL=0 and rerun for more info.)\n"
          ]
        }
      ],
      "source": [
        "!wget -N -q https://raw.githubusercontent.com/profteachkids/chetools/main/tools/che4.ipynb -O che4.ipynb\n",
        "!python -m pip install importnb --quiet\n",
        "from importnb import Notebook\n",
        "with Notebook():\n",
        "    from che4 import Range, Comp, CompArray, RangeArray, DotDict, d2nt, Props"
      ]
    },
    {
      "cell_type": "code",
      "source": [
        "import numpy as np\n",
        "from scipy.optimize import root"
      ],
      "metadata": {
        "id": "Y4diDq0NKm0m"
      },
      "execution_count": 2,
      "outputs": []
    },
    {
      "cell_type": "code",
      "source": [
        "#rx1 C3H6 + H2O -> C3H7OH\n",
        "#rx2 2C3H7OH -> (C3H7)O(C3H7) + H2O\n",
        "#1. C3H6, 2. (C3H7)O(C3H7), 3. C3H7OH, 4. H2O\n",
        "\n",
        "e=DotDict()\n",
        "e.stoic_rx1 = np.array([-1., 0., 1., -1.])\n",
        "e.stoic_rx2 = np.array([0., 1., -2, 1.])\n",
        "\n",
        "e.alkeneF = 100.\n",
        "e.alkeney = np.array([1., 0., 0., 0.])\n",
        "e.waterF = 95.\n",
        "e.waterx = np.array([0., 0., 0., 1.])\n",
        "\n",
        "e.etherx = np.array([0.001, 0.9, 0.09, 0.01])\n",
        "e.alcoholx = np.array([0.001, 0.01, 0.94, 0.049])\n",
        "\n",
        "e.etherP = Range(5., 0., e.alkeneF/2)\n",
        "e.alcoholP = Range(50., 0., e.alkeneF)\n",
        "\n",
        "e.ext_rx1 = Range(e.alkeneF/2, 0., e.alkeneF)\n",
        "e.ext_rx2 = Range(e.alkeneF/4, 0., e.alkeneF/2)"
      ],
      "metadata": {
        "id": "Hk7iJjCiJN08"
      },
      "execution_count": 3,
      "outputs": []
    },
    {
      "cell_type": "code",
      "source": [
        "x0, x2nt, wrap, x2unk, const=d2nt(e)"
      ],
      "metadata": {
        "id": "fR5S3Mp0UTbt"
      },
      "execution_count": 4,
      "outputs": []
    },
    {
      "cell_type": "code",
      "source": [
        "def eqs(d):\n",
        "    feed = d.alkeneF*d.alkeney + d.waterF*d.waterx\n",
        "    rxns = d.ext_rx1*d.stoic_rx1 + d.ext_rx2*d.stoic_rx2\n",
        "    prod =  d.etherP*d.etherx + d.alcoholP*d.alcoholx\n",
        "    return feed + rxns - prod"
      ],
      "metadata": {
        "id": "RJVeMmJlOKdt"
      },
      "execution_count": 5,
      "outputs": []
    },
    {
      "cell_type": "code",
      "source": [],
      "metadata": {
        "id": "DsRN2ZSHT7wy"
      },
      "execution_count": null,
      "outputs": []
    }
  ]
}