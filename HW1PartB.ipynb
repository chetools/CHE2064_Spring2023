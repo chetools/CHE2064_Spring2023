{
  "nbformat": 4,
  "nbformat_minor": 0,
  "metadata": {
    "colab": {
      "provenance": [],
      "authorship_tag": "ABX9TyNKUz4ew2obuAj6J2vOhYqX",
      "include_colab_link": true
    },
    "kernelspec": {
      "name": "python3",
      "display_name": "Python 3"
    },
    "language_info": {
      "name": "python"
    }
  },
  "cells": [
    {
      "cell_type": "markdown",
      "metadata": {
        "id": "view-in-github",
        "colab_type": "text"
      },
      "source": [
        "<a href=\"https://colab.research.google.com/github/profteachkids/CHE2064_Spring2023/blob/main/HW1PartB.ipynb\" target=\"_parent\"><img src=\"https://colab.research.google.com/assets/colab-badge.svg\" alt=\"Open In Colab\"/></a>"
      ]
    },
    {
      "cell_type": "code",
      "execution_count": 8,
      "metadata": {
        "id": "8yJ7luIZYBNP"
      },
      "outputs": [],
      "source": [
        "import numpy as np\n",
        "from plotly.subplots import make_subplots\n",
        "from scipy.optimize import root"
      ]
    },
    {
      "cell_type": "code",
      "source": [
        "PvapA=8.14019\n",
        "PvapB=1810.94\n",
        "PvapC=244.485\n",
        "def Pvap(T):\n",
        "    return 10**(PvapA - PvapB/((T-273.15) + PvapC))*101325/760\n"
      ],
      "metadata": {
        "id": "fj-V7725bVAI"
      },
      "execution_count": 9,
      "outputs": []
    },
    {
      "cell_type": "code",
      "source": [
        "R=8.314 #J/(mol K)\n",
        "Vtot = 0.1 #m3, total volume of container\n",
        "mass_water_i = 1. #kg\n",
        "Vvap = Vtot - mass_water_i/1e3  #volume of vapor phase, 1e3 density of liquid water\n",
        "T_initial=298. #K\n",
        "P_initial = 101325   #Pa initial pressure\n",
        "nair = P_initial * Vvap/(R*T_initial)  #moles of air in the vapor phase.  Remains constant, sealed container\n",
        "P_final_desired = 200e3\n"
      ],
      "metadata": {
        "id": "-5U1x9uMhu3z"
      },
      "execution_count": 10,
      "outputs": []
    },
    {
      "cell_type": "code",
      "source": [
        "def B2_func(T):\n",
        "    #return Pvap(T) + nair * T /(R*Vvap) - P_final_desired  Incorrect in lecture video!\n",
        "    return Pvap(T) + nair * R*T /Vvap - P_final_desired"
      ],
      "metadata": {
        "id": "8yw2qHl4bgvh"
      },
      "execution_count": 11,
      "outputs": []
    },
    {
      "cell_type": "code",
      "source": [
        "root(B2_func, 300.)"
      ],
      "metadata": {
        "colab": {
          "base_uri": "https://localhost:8080/"
        },
        "id": "YZ8U-N5TjUjf",
        "outputId": "c16e59c1-b3f6-4d6d-9aff-803a5b4f002b"
      },
      "execution_count": 12,
      "outputs": [
        {
          "output_type": "execute_result",
          "data": {
            "text/plain": [
              "    fjac: array([[-1.]])\n",
              "     fun: array([5.82076609e-11])\n",
              " message: 'The solution converged.'\n",
              "    nfev: 14\n",
              "     qtf: array([5.4819975e-07])\n",
              "       r: array([-3138.49314506])\n",
              "  status: 1\n",
              " success: True\n",
              "       x: array([364.96924596])"
            ]
          },
          "metadata": {},
          "execution_count": 12
        }
      ]
    },
    {
      "cell_type": "code",
      "source": [
        "nH2O_vap_desired = 0.3\n",
        "def B4_func(vec):\n",
        "    Vtot, T = vec\n",
        "    Vvap = Vtot - mass_water_i/1e3  #volume of vapor phase, 1e3 density of liquid water\n",
        "    nair = P_initial * Vvap/(R*T_initial)  #moles of air in the vapor phase.  Remains constant, sealed container\n",
        "\n",
        "    # return [Pvap(T)*Vvap/(R*T)-nH2O_vap_desired,    Pvap(T) + nair * T /(R*Vvap) - P_final_desired]  Incorrect in lecture video!\n",
        "    return [Pvap(T)*Vvap/(R*T)-nH2O_vap_desired,    Pvap(T) + nair * R*T /Vvap - P_final_desired]"
      ],
      "metadata": {
        "id": "InSWkqnXb2wa"
      },
      "execution_count": 13,
      "outputs": []
    },
    {
      "cell_type": "code",
      "source": [
        "root(B4_func, [0.1, 350.])"
      ],
      "metadata": {
        "colab": {
          "base_uri": "https://localhost:8080/"
        },
        "id": "megKeFTDmOsJ",
        "outputId": "7e823467-320e-4582-8378-036074c6aa81"
      },
      "execution_count": 14,
      "outputs": [
        {
          "output_type": "execute_result",
          "data": {
            "text/plain": [
              "    fjac: array([[-1.00000000e+00,  2.59440852e-08],\n",
              "       [-2.59440852e-08, -1.00000000e+00]])\n",
              "     fun: array([-2.72450007e-10,  0.00000000e+00])\n",
              " message: 'The solution converged.'\n",
              "    nfev: 11\n",
              "     qtf: array([ 4.34691296e-05, -1.81305586e-08])\n",
              "       r: array([  -25.01658279,  -432.93633823, -3138.31182398])\n",
              "  status: 1\n",
              " success: True\n",
              "       x: array([1.29928107e-02, 3.64969246e+02])"
            ]
          },
          "metadata": {},
          "execution_count": 14
        }
      ]
    },
    {
      "cell_type": "code",
      "source": [],
      "metadata": {
        "id": "3tIxi4bVmc9P"
      },
      "execution_count": 14,
      "outputs": []
    }
  ]
}