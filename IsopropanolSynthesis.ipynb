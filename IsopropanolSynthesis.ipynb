{
  "nbformat": 4,
  "nbformat_minor": 0,
  "metadata": {
    "colab": {
      "provenance": [],
      "authorship_tag": "ABX9TyNzXme7rFk936rOeqpN+LY+",
      "include_colab_link": true
    },
    "kernelspec": {
      "name": "python3",
      "display_name": "Python 3"
    },
    "language_info": {
      "name": "python"
    }
  },
  "cells": [
    {
      "cell_type": "markdown",
      "metadata": {
        "id": "view-in-github",
        "colab_type": "text"
      },
      "source": [
        "<a href=\"https://colab.research.google.com/github/profteachkids/CHE2064_Spring2023/blob/main/IsopropanolSynthesis.ipynb\" target=\"_parent\"><img src=\"https://colab.research.google.com/assets/colab-badge.svg\" alt=\"Open In Colab\"/></a>"
      ]
    },
    {
      "cell_type": "code",
      "execution_count": 1,
      "metadata": {
        "id": "8eX9QvBYI_Cq",
        "outputId": "2dd0afdb-13b9-48f3-d047-323978c787f3",
        "colab": {
          "base_uri": "https://localhost:8080/"
        }
      },
      "outputs": [
        {
          "output_type": "stream",
          "name": "stdout",
          "text": [
            "\u001b[?25l     \u001b[90m━━━━━━━━━━━━━━━━━━━━━━━━━━━━━━━━━━━━━━━━\u001b[0m \u001b[32m0.0/42.9 KB\u001b[0m \u001b[31m?\u001b[0m eta \u001b[36m-:--:--\u001b[0m\r\u001b[2K     \u001b[90m━━━━━━━━━━━━━━━━━━━━━━━━━━━━━━━━━━━━━━━━\u001b[0m \u001b[32m42.9/42.9 KB\u001b[0m \u001b[31m2.6 MB/s\u001b[0m eta \u001b[36m0:00:00\u001b[0m\n",
            "\u001b[?25h"
          ]
        },
        {
          "output_type": "stream",
          "name": "stderr",
          "text": [
            "WARNING:jax._src.xla_bridge:No GPU/TPU found, falling back to CPU. (Set TF_CPP_MIN_LOG_LEVEL=0 and rerun for more info.)\n"
          ]
        }
      ],
      "source": [
        "!wget -N -q https://raw.githubusercontent.com/profteachkids/chetools/main/tools/che4.ipynb -O che4.ipynb\n",
        "!python -m pip install importnb --quiet\n",
        "from importnb import Notebook\n",
        "with Notebook():\n",
        "    from che4 import Range, Comp, CompArray, RangeArray, DotDict, d2nt, Props"
      ]
    },
    {
      "cell_type": "code",
      "source": [
        "import numpy as np\n",
        "from scipy.optimize import root"
      ],
      "metadata": {
        "id": "Y4diDq0NKm0m"
      },
      "execution_count": 2,
      "outputs": []
    },
    {
      "cell_type": "code",
      "source": [
        "#rx1 C3H6 + H2O -> C3H7OH\n",
        "#rx2 2C3H7OH -> (C3H7)O(C3H7) + H2O\n",
        "#1. C3H6, 2. (C3H7)O(C3H7), 3. C3H7OH, 4. H2O\n",
        "\n",
        "e=DotDict()\n",
        "e.stoic_rx1 = np.array([-1., 0., 1., -1.])\n",
        "e.stoic_rx2 = np.array([0., 1., -2, 1.])\n",
        "\n",
        "e.alkeneF = 100.\n",
        "e.alkeney = np.array([1., 0., 0., 0.])\n",
        "e.waterF = 95.\n",
        "e.waterx = np.array([0., 0., 0., 1.])\n",
        "\n",
        "e.etherx = np.array([0.001, 0.9, 0.09, 0.01])\n",
        "e.alcoholx = np.array([0.001, 0.01, 0.94, 0.049])\n",
        "\n",
        "e.etherP = Range(5., 0., e.alkeneF/2)\n",
        "e.alcoholP = Range(50., 0., e.alkeneF)\n",
        "\n",
        "e.ext_rx1 = Range(e.alkeneF/2, 0., e.alkeneF)\n",
        "e.ext_rx2 = Range(e.alkeneF/4, 0., e.alkeneF/2)"
      ],
      "metadata": {
        "id": "Hk7iJjCiJN08"
      },
      "execution_count": 3,
      "outputs": []
    },
    {
      "cell_type": "code",
      "source": [
        "x0, x2nt, wrap, x2unk, const=d2nt(e)"
      ],
      "metadata": {
        "id": "fR5S3Mp0UTbt"
      },
      "execution_count": 4,
      "outputs": []
    },
    {
      "cell_type": "code",
      "source": [],
      "metadata": {
        "colab": {
          "base_uri": "https://localhost:8080/"
        },
        "id": "lSLA_kKtepNt",
        "outputId": "80839486-97c6-4708-d63b-a7cb25ca35da"
      },
      "execution_count": 10,
      "outputs": [
        {
          "output_type": "execute_result",
          "data": {
            "text/plain": [
              "{'stoic_rx1': Array([-1.,  0.,  1., -1.], dtype=float64),\n",
              " 'stoic_rx2': Array([ 0.,  1., -2.,  1.], dtype=float64),\n",
              " 'alkeneF': Array(100., dtype=float64),\n",
              " 'alkeney': Array([1., 0., 0., 0.], dtype=float64),\n",
              " 'waterF': Array(95., dtype=float64),\n",
              " 'waterx': Array([0., 0., 0., 1.], dtype=float64),\n",
              " 'etherx': Array([0.001, 0.9  , 0.09 , 0.01 ], dtype=float64),\n",
              " 'alcoholx': Array([0.001, 0.01 , 0.94 , 0.049], dtype=float64),\n",
              " 'etherP': Array(5., dtype=float64),\n",
              " 'alcoholP': Array(50., dtype=float64),\n",
              " 'ext_rx1': Array(50., dtype=float64),\n",
              " 'ext_rx2': Array(25., dtype=float64)}"
            ]
          },
          "metadata": {},
          "execution_count": 10
        }
      ]
    },
    {
      "cell_type": "code",
      "source": [
        "def eqs(d):\n",
        "    feed = d.alkeneF*d.alkeney + d.waterF*d.waterx\n",
        "    rxns = d.ext_rx1*d.stoic_rx1 + d.ext_rx2*d.stoic_rx2\n",
        "    prod =  d.etherP*d.etherx + d.alcoholP*d.alcoholx\n",
        "    return feed + rxns - prod"
      ],
      "metadata": {
        "id": "RJVeMmJlOKdt"
      },
      "execution_count": 5,
      "outputs": []
    },
    {
      "cell_type": "code",
      "source": [
        "wrapped_eqs=wrap(eqs)"
      ],
      "metadata": {
        "id": "ribfEvdcfUeV"
      },
      "execution_count": 12,
      "outputs": []
    },
    {
      "cell_type": "code",
      "source": [
        "x=root(wrapped_eqs, x0).x "
      ],
      "metadata": {
        "id": "DsRN2ZSHT7wy"
      },
      "execution_count": 15,
      "outputs": []
    },
    {
      "cell_type": "code",
      "source": [
        "x2unk(x)._asdict()"
      ],
      "metadata": {
        "colab": {
          "base_uri": "https://localhost:8080/"
        },
        "id": "gpy83uu7hBqA",
        "outputId": "53937ecb-0f3d-4f72-968d-22a3150a6d78"
      },
      "execution_count": 19,
      "outputs": [
        {
          "output_type": "execute_result",
          "data": {
            "text/plain": [
              "{'etherP': Array(9.2715403, dtype=float64),\n",
              " 'alcoholP': Array(85.81427397, dtype=float64),\n",
              " 'ext_rx1': Array(99.90491419, dtype=float64),\n",
              " 'ext_rx2': Array(9.20252901, dtype=float64)}"
            ]
          },
          "metadata": {},
          "execution_count": 19
        }
      ]
    },
    {
      "cell_type": "code",
      "source": [
        "const._asdict()"
      ],
      "metadata": {
        "colab": {
          "base_uri": "https://localhost:8080/"
        },
        "id": "D0md0j1uhJIZ",
        "outputId": "6f0f8495-fc8f-4782-ff06-04730a216f44"
      },
      "execution_count": 21,
      "outputs": [
        {
          "output_type": "execute_result",
          "data": {
            "text/plain": [
              "{'stoic_rx1': Array([-1.,  0.,  1., -1.], dtype=float64),\n",
              " 'stoic_rx2': Array([ 0.,  1., -2.,  1.], dtype=float64),\n",
              " 'alkeneF': Array(100., dtype=float64),\n",
              " 'alkeney': Array([1., 0., 0., 0.], dtype=float64),\n",
              " 'waterF': Array(95., dtype=float64),\n",
              " 'waterx': Array([0., 0., 0., 1.], dtype=float64),\n",
              " 'etherx': Array([0.001, 0.9  , 0.09 , 0.01 ], dtype=float64),\n",
              " 'alcoholx': Array([0.001, 0.01 , 0.94 , 0.049], dtype=float64)}"
            ]
          },
          "metadata": {},
          "execution_count": 21
        }
      ]
    },
    {
      "cell_type": "code",
      "source": [],
      "metadata": {
        "id": "MHYGJGbzhosT"
      },
      "execution_count": null,
      "outputs": []
    }
  ]
}