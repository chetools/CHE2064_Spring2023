{
  "nbformat": 4,
  "nbformat_minor": 0,
  "metadata": {
    "colab": {
      "provenance": [],
      "authorship_tag": "ABX9TyOoCHY7D7FuE9kNV5AQBk2K",
      "include_colab_link": true
    },
    "kernelspec": {
      "name": "python3",
      "display_name": "Python 3"
    },
    "language_info": {
      "name": "python"
    }
  },
  "cells": [
    {
      "cell_type": "markdown",
      "metadata": {
        "id": "view-in-github",
        "colab_type": "text"
      },
      "source": [
        "<a href=\"https://colab.research.google.com/github/profteachkids/CHE2064_Spring2023/blob/main/AdiabaticFlameTemperature.ipynb\" target=\"_parent\"><img src=\"https://colab.research.google.com/assets/colab-badge.svg\" alt=\"Open In Colab\"/></a>"
      ]
    },
    {
      "cell_type": "code",
      "execution_count": 31,
      "metadata": {
        "colab": {
          "base_uri": "https://localhost:8080/"
        },
        "id": "wd-1wGuqSH1L",
        "outputId": "a5c42b8d-9327-4a6f-bdf6-b33389d794bf"
      },
      "outputs": [
        {
          "output_type": "stream",
          "name": "stdout",
          "text": [
            "Looking in indexes: https://pypi.org/simple, https://us-python.pkg.dev/colab-wheels/public/simple/\n",
            "Requirement already satisfied: importnb in /usr/local/lib/python3.9/dist-packages (2023.1.7)\n"
          ]
        }
      ],
      "source": [
        "!wget -N -q https://raw.githubusercontent.com/profteachkids/chetools/main/tools/che4.ipynb -O che4.ipynb\n",
        "!python -m pip install importnb\n",
        "\n",
        "from importnb import Notebook\n",
        "with Notebook():\n",
        "    from che4 import Props"
      ]
    },
    {
      "cell_type": "code",
      "source": [
        "import numpy as np\n",
        "from scipy.optimize import root"
      ],
      "metadata": {
        "id": "SR8kcfqbVwcX"
      },
      "execution_count": 32,
      "outputs": []
    },
    {
      "cell_type": "code",
      "source": [
        "p = Props(['Methane', 'Ethane','nPropane' ,'Oxygen','CarbonDioxide','Water','Nitrogen'])\n"
      ],
      "metadata": {
        "id": "0CKV_petSfQi"
      },
      "execution_count": 33,
      "outputs": []
    },
    {
      "cell_type": "code",
      "source": [],
      "metadata": {
        "id": "cMknarUNdWIy"
      },
      "execution_count": 33,
      "outputs": []
    },
    {
      "cell_type": "code",
      "source": [
        "def intCp(T):\n",
        "    return (p.CpIGA*T + p.CpIGB*p.CpIGC/np.tanh(p.CpIGC/T) - p.CpIGD*p.CpIGE*np.tanh(p.CpIGE/T))/1000.\n",
        "\n",
        "def H(T):\n",
        "    return p.HfIG + intCp(T)-intCp(298.)"
      ],
      "metadata": {
        "id": "CSsfrrQGTGQ_"
      },
      "execution_count": 34,
      "outputs": []
    },
    {
      "cell_type": "code",
      "source": [
        "excess_air = 2.\n",
        "fuel_comp = np.array([0.95, 0.04, 0.01])\n",
        "M = np.array([[1,2,3],[4,6,8]])\n",
        "nC, nH = M @ fuel_comp\n",
        "nCO2 = nC\n",
        "nH2O = nH/2\n",
        "nO2_stoic = nCO2 + nH2O/2\n",
        "nO2 = nO2_stoic*(1+excess_air)\n",
        "nN2 = 79/21 * nO2\n",
        "\n",
        "\n",
        "moles_in = np.concatenate([fuel_comp, np.array([nO2, 0., 0., nN2])])\n",
        "moles_out = np.array([0., 0., 0., nO2_stoic*excess_air, nCO2, nH2O, nN2])\n",
        "def Hdiff(T):\n",
        "    return np.dot(moles_in,H(298)) - np.dot(moles_out,H(T))"
      ],
      "metadata": {
        "id": "96sUJb8oThnY"
      },
      "execution_count": 35,
      "outputs": []
    },
    {
      "cell_type": "code",
      "source": [
        "root(Hdiff, 1000.)"
      ],
      "metadata": {
        "colab": {
          "base_uri": "https://localhost:8080/"
        },
        "id": "REx6WBcQn1G5",
        "outputId": "a2359966-5caa-4bb7-eb8d-e7a3eba8cf38"
      },
      "execution_count": 36,
      "outputs": [
        {
          "output_type": "execute_result",
          "data": {
            "text/plain": [
              " message: The solution converged.\n",
              " success: True\n",
              "  status: 1\n",
              "     fun: -4.147295840084553e-09\n",
              "       x: [ 1.140e+03]\n",
              "    nfev: 6\n",
              "    fjac: [[-1.000e+00]]\n",
              "       r: [ 1.085e+03]\n",
              "     qtf: [-2.858e-03]"
            ]
          },
          "metadata": {},
          "execution_count": 36
        }
      ]
    },
    {
      "cell_type": "code",
      "source": [],
      "metadata": {
        "id": "__T3pwTRhlf1"
      },
      "execution_count": 36,
      "outputs": []
    }
  ]
}