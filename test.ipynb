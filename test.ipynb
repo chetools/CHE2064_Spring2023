{
  "nbformat": 4,
  "nbformat_minor": 0,
  "metadata": {
    "colab": {
      "provenance": [],
      "authorship_tag": "ABX9TyPGcbMK7VNCSTrdBHCeyR/X",
      "include_colab_link": true
    },
    "kernelspec": {
      "name": "python3",
      "display_name": "Python 3"
    },
    "language_info": {
      "name": "python"
    }
  },
  "cells": [
    {
      "cell_type": "markdown",
      "metadata": {
        "id": "view-in-github",
        "colab_type": "text"
      },
      "source": [
        "<a href=\"https://colab.research.google.com/github/profteachkids/CHE2064_Spring2023/blob/main/test.ipynb\" target=\"_parent\"><img src=\"https://colab.research.google.com/assets/colab-badge.svg\" alt=\"Open In Colab\"/></a>"
      ]
    },
    {
      "cell_type": "markdown",
      "source": [
        "CHE 2064 - Material and Energy Balances\n",
        "\n",
        "Instructor: Carlos Co\n",
        "email: carlos.co@uc.edu"
      ],
      "metadata": {
        "id": "_DKgcqVcIP-n"
      }
    },
    {
      "cell_type": "code",
      "source": [],
      "metadata": {
        "id": "qLBrXPe7IUK_"
      },
      "execution_count": null,
      "outputs": []
    }
  ]
}