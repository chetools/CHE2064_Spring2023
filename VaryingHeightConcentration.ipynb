{
  "nbformat": 4,
  "nbformat_minor": 0,
  "metadata": {
    "colab": {
      "provenance": [],
      "authorship_tag": "ABX9TyNt7NHpTSG6OonAj6ouEPd8",
      "include_colab_link": true
    },
    "kernelspec": {
      "name": "python3",
      "display_name": "Python 3"
    },
    "language_info": {
      "name": "python"
    }
  },
  "cells": [
    {
      "cell_type": "markdown",
      "metadata": {
        "id": "view-in-github",
        "colab_type": "text"
      },
      "source": [
        "<a href=\"https://colab.research.google.com/github/profteachkids/CHE2064_Spring2023/blob/main/VaryingHeightConcentration.ipynb\" target=\"_parent\"><img src=\"https://colab.research.google.com/assets/colab-badge.svg\" alt=\"Open In Colab\"/></a>"
      ]
    },
    {
      "cell_type": "code",
      "execution_count": 1,
      "metadata": {
        "id": "Irdd-Fjk8U6Z"
      },
      "outputs": [],
      "source": [
        "import numpy as np\n",
        "from scipy.integrate import solve_ivp\n",
        "from plotly.subplots import make_subplots "
      ]
    },
    {
      "cell_type": "code",
      "source": [
        "g=9.81 #m/s2\n",
        "qin0 = 0.1 # m3/s\n",
        "qin=1.25*qin0\n",
        "Ac = 1. #m2\n",
        "Ahole = 0.01 #m2\n",
        "ca_in0 = 1. #mol/m3\n",
        "ca_in=1.1 * ca_in0  #mol/m3\n",
        "ca0=ca_in0\n",
        "h0 = ((qin0/Ahole)**2)/2/g\n"
      ],
      "metadata": {
        "id": "q6_j2SfSRW7U"
      },
      "execution_count": 5,
      "outputs": []
    },
    {
      "cell_type": "code",
      "source": [
        "def dvdt(t,v):\n",
        "    h,ca = v\n",
        "    qout = Ahole*((2*g)**(0.5)) * (h**(0.5))\n",
        "    dhdt = (qin - )* )/Ac\n",
        "    dcdt = (ca_in*qin - ca * )"
      ],
      "metadata": {
        "id": "COzCUqdAR3lg"
      },
      "execution_count": 4,
      "outputs": []
    },
    {
      "cell_type": "code",
      "source": [],
      "metadata": {
        "id": "Elt-uoaNSX8q"
      },
      "execution_count": null,
      "outputs": []
    }
  ]
}