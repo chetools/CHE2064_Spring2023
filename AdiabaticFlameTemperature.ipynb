{
  "nbformat": 4,
  "nbformat_minor": 0,
  "metadata": {
    "colab": {
      "provenance": [],
      "authorship_tag": "ABX9TyPxVrkgcWRBOPEbkcvISL2L",
      "include_colab_link": true
    },
    "kernelspec": {
      "name": "python3",
      "display_name": "Python 3"
    },
    "language_info": {
      "name": "python"
    }
  },
  "cells": [
    {
      "cell_type": "markdown",
      "metadata": {
        "id": "view-in-github",
        "colab_type": "text"
      },
      "source": [
        "<a href=\"https://colab.research.google.com/github/profteachkids/CHE2064_Spring2023/blob/main/AdiabaticFlameTemperature.ipynb\" target=\"_parent\"><img src=\"https://colab.research.google.com/assets/colab-badge.svg\" alt=\"Open In Colab\"/></a>"
      ]
    },
    {
      "cell_type": "code",
      "execution_count": 1,
      "metadata": {
        "colab": {
          "base_uri": "https://localhost:8080/"
        },
        "id": "wd-1wGuqSH1L",
        "outputId": "4e9b666d-208c-401f-e0fb-f165e1beb827"
      },
      "outputs": [
        {
          "output_type": "stream",
          "name": "stdout",
          "text": [
            "Looking in indexes: https://pypi.org/simple, https://us-python.pkg.dev/colab-wheels/public/simple/\n",
            "Collecting importnb\n",
            "  Downloading importnb-2023.1.7-py3-none-any.whl (42 kB)\n",
            "\u001b[2K     \u001b[90m━━━━━━━━━━━━━━━━━━━━━━━━━━━━━━━━━━━━━━━━\u001b[0m \u001b[32m42.9/42.9 KB\u001b[0m \u001b[31m1.9 MB/s\u001b[0m eta \u001b[36m0:00:00\u001b[0m\n",
            "\u001b[?25hInstalling collected packages: importnb\n",
            "Successfully installed importnb-2023.1.7\n"
          ]
        },
        {
          "output_type": "stream",
          "name": "stderr",
          "text": [
            "WARNING:jax._src.xla_bridge:No GPU/TPU found, falling back to CPU. (Set TF_CPP_MIN_LOG_LEVEL=0 and rerun for more info.)\n"
          ]
        }
      ],
      "source": [
        "!wget -N -q https://raw.githubusercontent.com/profteachkids/chetools/main/tools/che4.ipynb -O che4.ipynb\n",
        "!python -m pip install importnb\n",
        "\n",
        "from importnb import Notebook\n",
        "with Notebook():\n",
        "    from che4 import Props"
      ]
    },
    {
      "cell_type": "code",
      "source": [
        "import numpy as np\n",
        "from scipy.optimize import root"
      ],
      "metadata": {
        "id": "SR8kcfqbVwcX"
      },
      "execution_count": 63,
      "outputs": []
    },
    {
      "cell_type": "code",
      "source": [
        "p = Props(['Methane', 'Ethane','nPropane' ,'Oxygen','CarbonDioxide','Water','Nitrogen'])\n",
        "fuel_comp = np.array([0.9, 0.04, 0.01])"
      ],
      "metadata": {
        "id": "0CKV_petSfQi"
      },
      "execution_count": 73,
      "outputs": []
    },
    {
      "cell_type": "code",
      "source": [
        "p.HfIG"
      ],
      "metadata": {
        "colab": {
          "base_uri": "https://localhost:8080/"
        },
        "id": "cMknarUNdWIy",
        "outputId": "4af4fed4-fbe6-4aef-fe1f-f9fca651a484"
      },
      "execution_count": 72,
      "outputs": [
        {
          "output_type": "execute_result",
          "data": {
            "text/plain": [
              "array([ -74850.        ,  -83850.        , -104680.        ,\n",
              "             0.        , -393720.98479714, -241820.        ,\n",
              "             0.        ])"
            ]
          },
          "metadata": {},
          "execution_count": 72
        }
      ]
    },
    {
      "cell_type": "code",
      "source": [
        "def intCp(T):\n",
        "    return (p.CpIGA*T + p.CpIGB*p.CpIGC/np.tanh(p.CpIGC/T) - p.CpIGD*p.CpIGE*np.tanh(p.CpIGE/T))/1000.\n",
        "\n",
        "def H(T):\n",
        "    return p.HfIG + intCp(T)-intCp(298.)"
      ],
      "metadata": {
        "id": "CSsfrrQGTGQ_"
      },
      "execution_count": 20,
      "outputs": []
    },
    {
      "cell_type": "code",
      "source": [
        "excess_air = 2.\n",
        "moles_in = np.array([1., 2.*(1.+excess_air) , 0., 0., 2*79/21*(1.+excess_air)])\n",
        "moles_out = np.array([0., 2.*excess_air, 1., 2., 2*79/21*(1.+excess_air)])\n",
        "def Hdiff(T):\n",
        "    return np.dot(moles_in,H(298)) - np.dot(moles_out,H(T))"
      ],
      "metadata": {
        "id": "96sUJb8oThnY"
      },
      "execution_count": 68,
      "outputs": []
    },
    {
      "cell_type": "code",
      "source": [
        "root(Hdiff, 1000.)"
      ],
      "metadata": {
        "colab": {
          "base_uri": "https://localhost:8080/"
        },
        "id": "REx6WBcQn1G5",
        "outputId": "737fc0f5-ace2-418b-a7b9-59c3309e18c7"
      },
      "execution_count": 69,
      "outputs": [
        {
          "output_type": "execute_result",
          "data": {
            "text/plain": [
              " message: The solution converged.\n",
              " success: True\n",
              "  status: 1\n",
              "     fun: -3.3760443329811096e-09\n",
              "       x: [ 1.138e+03]\n",
              "    nfev: 6\n",
              "    fjac: [[-1.000e+00]]\n",
              "       r: [ 1.038e+03]\n",
              "     qtf: [-2.605e-03]"
            ]
          },
          "metadata": {},
          "execution_count": 69
        }
      ]
    },
    {
      "cell_type": "code",
      "source": [
        "np.dot(moles_in,H(298))"
      ],
      "metadata": {
        "colab": {
          "base_uri": "https://localhost:8080/"
        },
        "id": "0xEno2lihC1i",
        "outputId": "e4f8bb7e-c6e7-47af-c023-148158a2af0c"
      },
      "execution_count": 66,
      "outputs": [
        {
          "output_type": "execute_result",
          "data": {
            "text/plain": [
              "-74850.0"
            ]
          },
          "metadata": {},
          "execution_count": 66
        }
      ]
    },
    {
      "cell_type": "code",
      "source": [
        "np.dot(moles_out,H(1138.))"
      ],
      "metadata": {
        "colab": {
          "base_uri": "https://localhost:8080/"
        },
        "id": "7cokqFR2hMci",
        "outputId": "fedd0b29-5b8e-4c60-d9d0-931ebef4ba29"
      },
      "execution_count": 67,
      "outputs": [
        {
          "output_type": "execute_result",
          "data": {
            "text/plain": [
              "-75009.9853950995"
            ]
          },
          "metadata": {},
          "execution_count": 67
        }
      ]
    },
    {
      "cell_type": "code",
      "source": [],
      "metadata": {
        "id": "2ITSc8xvnsgd"
      },
      "execution_count": null,
      "outputs": []
    },
    {
      "cell_type": "code",
      "source": [
        "H(298.)"
      ],
      "metadata": {
        "colab": {
          "base_uri": "https://localhost:8080/"
        },
        "id": "a-4xjm3Xhd3b",
        "outputId": "f17c1356-2f0b-4795-ddb7-2576cdf6c9ec"
      },
      "execution_count": 14,
      "outputs": [
        {
          "output_type": "execute_result",
          "data": {
            "text/plain": [
              "array([ -74850.        ,       0.        , -393720.98479714,\n",
              "       -241820.        ])"
            ]
          },
          "metadata": {},
          "execution_count": 14
        }
      ]
    },
    {
      "cell_type": "code",
      "source": [],
      "metadata": {
        "id": "__T3pwTRhlf1"
      },
      "execution_count": null,
      "outputs": []
    }
  ]
}