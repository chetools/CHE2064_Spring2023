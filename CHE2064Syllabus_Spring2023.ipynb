{
  "nbformat": 4,
  "nbformat_minor": 0,
  "metadata": {
    "colab": {
      "provenance": [],
      "authorship_tag": "ABX9TyO2RliBOh13WX108SUzjiFb",
      "include_colab_link": true
    },
    "kernelspec": {
      "name": "python3",
      "display_name": "Python 3"
    },
    "language_info": {
      "name": "python"
    }
  },
  "cells": [
    {
      "cell_type": "markdown",
      "metadata": {
        "id": "view-in-github",
        "colab_type": "text"
      },
      "source": [
        "<a href=\"https://colab.research.google.com/github/profteachkids/CHE2064_Spring2023/blob/main/CHE2064Syllabus_Spring2023.ipynb\" target=\"_parent\"><img src=\"https://colab.research.google.com/assets/colab-badge.svg\" alt=\"Open In Colab\"/></a>"
      ]
    },
    {
      "cell_type": "markdown",
      "source": [
        "**CHE 2064 - Material and Energy Balances**\n",
        "\n",
        "Instructor: Carlos Co<br>\n",
        "email: carlos.co@uc.edu"
      ],
      "metadata": {
        "id": "73ieGAFeI70h"
      }
    }
  ]
}