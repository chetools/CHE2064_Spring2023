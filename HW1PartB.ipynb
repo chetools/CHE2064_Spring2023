{
  "nbformat": 4,
  "nbformat_minor": 0,
  "metadata": {
    "colab": {
      "provenance": [],
      "authorship_tag": "ABX9TyNIwFje4hqG8/paIcUGucDR",
      "include_colab_link": true
    },
    "kernelspec": {
      "name": "python3",
      "display_name": "Python 3"
    },
    "language_info": {
      "name": "python"
    }
  },
  "cells": [
    {
      "cell_type": "markdown",
      "metadata": {
        "id": "view-in-github",
        "colab_type": "text"
      },
      "source": [
        "<a href=\"https://colab.research.google.com/github/profteachkids/CHE2064_Spring2023/blob/main/HW1PartB.ipynb\" target=\"_parent\"><img src=\"https://colab.research.google.com/assets/colab-badge.svg\" alt=\"Open In Colab\"/></a>"
      ]
    },
    {
      "cell_type": "code",
      "execution_count": 15,
      "metadata": {
        "id": "8yJ7luIZYBNP"
      },
      "outputs": [],
      "source": [
        "import numpy as np\n",
        "from plotly.subplots import make_subplots\n",
        "from scipy.optimize import root"
      ]
    },
    {
      "cell_type": "code",
      "source": [
        "PvapA=8.14019\n",
        "PvapB=1810.94\n",
        "PvapC=244.485\n",
        "def Pvap(T):\n",
        "    return 10**(PvapA - PvapB/((T-273.15) + PvapC))*101325/760\n"
      ],
      "metadata": {
        "id": "fj-V7725bVAI"
      },
      "execution_count": 38,
      "outputs": []
    },
    {
      "cell_type": "code",
      "source": [
        "R=8.314 #J/(mol K)\n",
        "Vtot = 0.1 #m3, total volume of container\n",
        "mass_water_i = 1. #kg\n",
        "Vvap = Vtot - mass_water_i/1e3  #volume of vapor phase, 1e3 density of liquid water\n",
        "T_initial=298. #K\n",
        "P_initial = 101325   #Pa initial pressure\n",
        "nair = P_initial * Vvap/(R*T_initial)  #moles of air in the vapor phase.  Remains constant, sealed container\n",
        "P_final_desired = 200e3\n"
      ],
      "metadata": {
        "id": "-5U1x9uMhu3z"
      },
      "execution_count": 39,
      "outputs": []
    },
    {
      "cell_type": "code",
      "source": [
        "def B2_func(T):\n",
        "    return Pvap(T) + nair * T /(R*Vvap) - P_final_desired"
      ],
      "metadata": {
        "id": "8yw2qHl4bgvh"
      },
      "execution_count": 40,
      "outputs": []
    },
    {
      "cell_type": "code",
      "source": [
        "root(B2_func, 300.)"
      ],
      "metadata": {
        "colab": {
          "base_uri": "https://localhost:8080/"
        },
        "id": "YZ8U-N5TjUjf",
        "outputId": "9887faee-45a0-461f-ae9d-c334a517afb7"
      },
      "execution_count": 41,
      "outputs": [
        {
          "output_type": "execute_result",
          "data": {
            "text/plain": [
              "    fjac: array([[-1.]])\n",
              "     fun: array([-8.34988896e-08])\n",
              " message: 'The solution converged.'\n",
              "    nfev: 19\n",
              "     qtf: array([-0.00520967])\n",
              "       r: array([-6221.1522693])\n",
              "  status: 1\n",
              " success: True\n",
              "       x: array([393.16516465])"
            ]
          },
          "metadata": {},
          "execution_count": 41
        }
      ]
    },
    {
      "cell_type": "code",
      "source": [
        "nH2O_vap_desired = 0.3\n",
        "def B4_func(vec):\n",
        "    Vtot, T = vec\n",
        "    Vvap = Vtot - mass_water_i/1e3  #volume of vapor phase, 1e3 density of liquid water\n",
        "    nair = P_initial * Vvap/(R*T_initial)  #moles of air in the vapor phase.  Remains constant, sealed container\n",
        "\n",
        "\n",
        "    return [Pvap(T)*Vvap/(R*T)-nH2O_vap_desired,    Pvap(T) + nair * T /(R*Vvap) - P_final_desired]"
      ],
      "metadata": {
        "id": "InSWkqnXb2wa"
      },
      "execution_count": 42,
      "outputs": []
    },
    {
      "cell_type": "code",
      "source": [
        "root(B4_func, [0.1, 350.])"
      ],
      "metadata": {
        "colab": {
          "base_uri": "https://localhost:8080/"
        },
        "id": "megKeFTDmOsJ",
        "outputId": "3ecb1ae0-c7ed-4435-83d6-40d3e18e4f4f"
      },
      "execution_count": 43,
      "outputs": [
        {
          "output_type": "execute_result",
          "data": {
            "text/plain": [
              "    fjac: array([[-9.99999995e-01, -9.69823505e-05],\n",
              "       [ 9.69823505e-05, -9.99999995e-01]])\n",
              "     fun: array([ 2.61817614e-07, -3.63797881e-09])\n",
              " message: 'The solution converged.'\n",
              "    nfev: 14\n",
              "     qtf: array([ 6.80601373e-04, -1.19900785e-05])\n",
              "       r: array([  -60.20069957,  2163.9635787 , -6253.6451535 ])\n",
              "  status: 1\n",
              " success: True\n",
              "       x: array([5.95104351e-03, 3.93165165e+02])"
            ]
          },
          "metadata": {},
          "execution_count": 43
        }
      ]
    },
    {
      "cell_type": "code",
      "source": [],
      "metadata": {
        "id": "3tIxi4bVmc9P"
      },
      "execution_count": null,
      "outputs": []
    }
  ]
}