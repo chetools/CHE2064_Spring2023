{
  "nbformat": 4,
  "nbformat_minor": 0,
  "metadata": {
    "colab": {
      "provenance": [],
      "authorship_tag": "ABX9TyOMEAxUVipkqe7Nv96vN/ZU",
      "include_colab_link": true
    },
    "kernelspec": {
      "name": "python3",
      "display_name": "Python 3"
    },
    "language_info": {
      "name": "python"
    }
  },
  "cells": [
    {
      "cell_type": "markdown",
      "metadata": {
        "id": "view-in-github",
        "colab_type": "text"
      },
      "source": [
        "<a href=\"https://colab.research.google.com/github/profteachkids/CHE2064_Spring2023/blob/main/AdiabaticFlameTemperature.ipynb\" target=\"_parent\"><img src=\"https://colab.research.google.com/assets/colab-badge.svg\" alt=\"Open In Colab\"/></a>"
      ]
    },
    {
      "cell_type": "code",
      "execution_count": 1,
      "metadata": {
        "colab": {
          "base_uri": "https://localhost:8080/"
        },
        "id": "wd-1wGuqSH1L",
        "outputId": "6cfae9dc-57a8-4c49-86f1-86a74befc410"
      },
      "outputs": [
        {
          "output_type": "stream",
          "name": "stdout",
          "text": [
            "Looking in indexes: https://pypi.org/simple, https://us-python.pkg.dev/colab-wheels/public/simple/\n",
            "Collecting importnb\n",
            "  Downloading importnb-2023.1.7-py3-none-any.whl (42 kB)\n",
            "\u001b[2K     \u001b[90m━━━━━━━━━━━━━━━━━━━━━━━━━━━━━━━━━━━━━━━━\u001b[0m \u001b[32m42.9/42.9 KB\u001b[0m \u001b[31m1.3 MB/s\u001b[0m eta \u001b[36m0:00:00\u001b[0m\n",
            "\u001b[?25hInstalling collected packages: importnb\n",
            "Successfully installed importnb-2023.1.7\n"
          ]
        },
        {
          "output_type": "stream",
          "name": "stderr",
          "text": [
            "WARNING:jax._src.xla_bridge:No GPU/TPU found, falling back to CPU. (Set TF_CPP_MIN_LOG_LEVEL=0 and rerun for more info.)\n"
          ]
        }
      ],
      "source": [
        "!wget -N -q https://raw.githubusercontent.com/profteachkids/chetools/main/tools/che4.ipynb -O che4.ipynb\n",
        "!python -m pip install importnb\n",
        "\n",
        "from importnb import Notebook\n",
        "with Notebook():\n",
        "    from che4 import Props"
      ]
    },
    {
      "cell_type": "code",
      "source": [
        "import numpy as np\n",
        "from scipy.optimize import root"
      ],
      "metadata": {
        "id": "SR8kcfqbVwcX"
      },
      "execution_count": 2,
      "outputs": []
    },
    {
      "cell_type": "code",
      "source": [
        "p = Props(['Methane', 'Ethane','nPropane' ,'Oxygen','CarbonDioxide','Water','Nitrogen'])\n"
      ],
      "metadata": {
        "id": "0CKV_petSfQi"
      },
      "execution_count": 13,
      "outputs": []
    },
    {
      "cell_type": "code",
      "source": [],
      "metadata": {
        "colab": {
          "base_uri": "https://localhost:8080/"
        },
        "id": "cMknarUNdWIy",
        "outputId": "db76eb34-5567-4b99-bc52-4ac6b84c1906"
      },
      "execution_count": 11,
      "outputs": [
        {
          "output_type": "execute_result",
          "data": {
            "text/plain": [
              "array([1.01, 3.92])"
            ]
          },
          "metadata": {},
          "execution_count": 11
        }
      ]
    },
    {
      "cell_type": "code",
      "source": [
        "def intCp(T):\n",
        "    return (p.CpIGA*T + p.CpIGB*p.CpIGC/np.tanh(p.CpIGC/T) - p.CpIGD*p.CpIGE*np.tanh(p.CpIGE/T))/1000.\n",
        "\n",
        "def H(T):\n",
        "    return p.HfIG + intCp(T)-intCp(298.)"
      ],
      "metadata": {
        "id": "CSsfrrQGTGQ_"
      },
      "execution_count": 5,
      "outputs": []
    },
    {
      "cell_type": "code",
      "source": [
        "excess_air = 2.\n",
        "fuel_comp = np.array([0.9, 0.04, 0.01])\n",
        "M = np.array([[1,2,3],[4,6,8]])\n",
        "nC, nH = M @ fuel_comp\n",
        "nCO2 = nC\n",
        "nH2O = nH/2\n",
        "nO2_stoic = nCO2 + nH2O/2\n",
        "nO2 = nO2_stoic*(1+excess_air)\n",
        "nN2 = 79/21 * nO2\n",
        "\n",
        "\n",
        "moles_in = np.concatenate([fuel_comp, np.array([nO2, 0., 0., nN2])])\n",
        "moles_out = np.array([0., 0., 0., nO2_stoic*excess_air, nCO2, nH2O, nN2])\n",
        "def Hdiff(T):\n",
        "    return np.dot(moles_in,H(298)) - np.dot(moles_out,H(T))"
      ],
      "metadata": {
        "id": "96sUJb8oThnY"
      },
      "execution_count": 26,
      "outputs": []
    },
    {
      "cell_type": "code",
      "source": [
        "root(Hdiff, 1000.)"
      ],
      "metadata": {
        "colab": {
          "base_uri": "https://localhost:8080/"
        },
        "id": "REx6WBcQn1G5",
        "outputId": "5dc1ffe0-b80d-4e8d-b9d9-64e770b16fc1"
      },
      "execution_count": 30,
      "outputs": [
        {
          "output_type": "execute_result",
          "data": {
            "text/plain": [
              " message: The solution converged.\n",
              " success: True\n",
              "  status: 1\n",
              "     fun: -4.147295840084553e-09\n",
              "       x: [ 1.140e+03]\n",
              "    nfev: 6\n",
              "    fjac: [[-1.000e+00]]\n",
              "       r: [ 1.033e+03]\n",
              "     qtf: [-2.728e-03]"
            ]
          },
          "metadata": {},
          "execution_count": 30
        }
      ]
    },
    {
      "cell_type": "code",
      "source": [],
      "metadata": {
        "id": "__T3pwTRhlf1"
      },
      "execution_count": null,
      "outputs": []
    }
  ]
}